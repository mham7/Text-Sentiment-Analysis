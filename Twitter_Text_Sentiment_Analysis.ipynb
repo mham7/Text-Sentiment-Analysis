{
  "nbformat": 4,
  "nbformat_minor": 0,
  "metadata": {
    "colab": {
      "provenance": []
    },
    "kernelspec": {
      "name": "python3",
      "display_name": "Python 3"
    },
    "language_info": {
      "name": "python"
    }
  },
  "cells": [
    {
      "cell_type": "code",
      "source": [
        "import pandas as pd\n"
      ],
      "metadata": {
        "id": "Wir1b0jG30Ch"
      },
      "execution_count": 12,
      "outputs": []
    },
    {
      "cell_type": "code",
      "execution_count": 13,
      "metadata": {
        "id": "pKQqk17K3r6n"
      },
      "outputs": [],
      "source": [
        "data=pd.read_csv('Tweets.csv')\n"
      ]
    },
    {
      "cell_type": "code",
      "source": [
        "data.head()"
      ],
      "metadata": {
        "colab": {
          "base_uri": "https://localhost:8080/",
          "height": 206
        },
        "id": "qgGXCHXu3wuM",
        "outputId": "e4c9975a-d3de-4eea-f47f-992ba3fbd8a4"
      },
      "execution_count": 14,
      "outputs": [
        {
          "output_type": "execute_result",
          "data": {
            "text/plain": [
              "       textID                                               text  \\\n",
              "0  cb774db0d1                I`d have responded, if I were going   \n",
              "1  549e992a42      Sooo SAD I will miss you here in San Diego!!!   \n",
              "2  088c60f138                          my boss is bullying me...   \n",
              "3  9642c003ef                     what interview! leave me alone   \n",
              "4  358bd9e861   Sons of ****, why couldn`t they put them on t...   \n",
              "\n",
              "                         selected_text sentiment  \n",
              "0  I`d have responded, if I were going   neutral  \n",
              "1                             Sooo SAD  negative  \n",
              "2                          bullying me  negative  \n",
              "3                       leave me alone  negative  \n",
              "4                        Sons of ****,  negative  "
            ],
            "text/html": [
              "\n",
              "  <div id=\"df-f6b54a9c-4e5c-4c27-adb5-7303a2ae0ff3\">\n",
              "    <div class=\"colab-df-container\">\n",
              "      <div>\n",
              "<style scoped>\n",
              "    .dataframe tbody tr th:only-of-type {\n",
              "        vertical-align: middle;\n",
              "    }\n",
              "\n",
              "    .dataframe tbody tr th {\n",
              "        vertical-align: top;\n",
              "    }\n",
              "\n",
              "    .dataframe thead th {\n",
              "        text-align: right;\n",
              "    }\n",
              "</style>\n",
              "<table border=\"1\" class=\"dataframe\">\n",
              "  <thead>\n",
              "    <tr style=\"text-align: right;\">\n",
              "      <th></th>\n",
              "      <th>textID</th>\n",
              "      <th>text</th>\n",
              "      <th>selected_text</th>\n",
              "      <th>sentiment</th>\n",
              "    </tr>\n",
              "  </thead>\n",
              "  <tbody>\n",
              "    <tr>\n",
              "      <th>0</th>\n",
              "      <td>cb774db0d1</td>\n",
              "      <td>I`d have responded, if I were going</td>\n",
              "      <td>I`d have responded, if I were going</td>\n",
              "      <td>neutral</td>\n",
              "    </tr>\n",
              "    <tr>\n",
              "      <th>1</th>\n",
              "      <td>549e992a42</td>\n",
              "      <td>Sooo SAD I will miss you here in San Diego!!!</td>\n",
              "      <td>Sooo SAD</td>\n",
              "      <td>negative</td>\n",
              "    </tr>\n",
              "    <tr>\n",
              "      <th>2</th>\n",
              "      <td>088c60f138</td>\n",
              "      <td>my boss is bullying me...</td>\n",
              "      <td>bullying me</td>\n",
              "      <td>negative</td>\n",
              "    </tr>\n",
              "    <tr>\n",
              "      <th>3</th>\n",
              "      <td>9642c003ef</td>\n",
              "      <td>what interview! leave me alone</td>\n",
              "      <td>leave me alone</td>\n",
              "      <td>negative</td>\n",
              "    </tr>\n",
              "    <tr>\n",
              "      <th>4</th>\n",
              "      <td>358bd9e861</td>\n",
              "      <td>Sons of ****, why couldn`t they put them on t...</td>\n",
              "      <td>Sons of ****,</td>\n",
              "      <td>negative</td>\n",
              "    </tr>\n",
              "  </tbody>\n",
              "</table>\n",
              "</div>\n",
              "      <button class=\"colab-df-convert\" onclick=\"convertToInteractive('df-f6b54a9c-4e5c-4c27-adb5-7303a2ae0ff3')\"\n",
              "              title=\"Convert this dataframe to an interactive table.\"\n",
              "              style=\"display:none;\">\n",
              "        \n",
              "  <svg xmlns=\"http://www.w3.org/2000/svg\" height=\"24px\"viewBox=\"0 0 24 24\"\n",
              "       width=\"24px\">\n",
              "    <path d=\"M0 0h24v24H0V0z\" fill=\"none\"/>\n",
              "    <path d=\"M18.56 5.44l.94 2.06.94-2.06 2.06-.94-2.06-.94-.94-2.06-.94 2.06-2.06.94zm-11 1L8.5 8.5l.94-2.06 2.06-.94-2.06-.94L8.5 2.5l-.94 2.06-2.06.94zm10 10l.94 2.06.94-2.06 2.06-.94-2.06-.94-.94-2.06-.94 2.06-2.06.94z\"/><path d=\"M17.41 7.96l-1.37-1.37c-.4-.4-.92-.59-1.43-.59-.52 0-1.04.2-1.43.59L10.3 9.45l-7.72 7.72c-.78.78-.78 2.05 0 2.83L4 21.41c.39.39.9.59 1.41.59.51 0 1.02-.2 1.41-.59l7.78-7.78 2.81-2.81c.8-.78.8-2.07 0-2.86zM5.41 20L4 18.59l7.72-7.72 1.47 1.35L5.41 20z\"/>\n",
              "  </svg>\n",
              "      </button>\n",
              "      \n",
              "  <style>\n",
              "    .colab-df-container {\n",
              "      display:flex;\n",
              "      flex-wrap:wrap;\n",
              "      gap: 12px;\n",
              "    }\n",
              "\n",
              "    .colab-df-convert {\n",
              "      background-color: #E8F0FE;\n",
              "      border: none;\n",
              "      border-radius: 50%;\n",
              "      cursor: pointer;\n",
              "      display: none;\n",
              "      fill: #1967D2;\n",
              "      height: 32px;\n",
              "      padding: 0 0 0 0;\n",
              "      width: 32px;\n",
              "    }\n",
              "\n",
              "    .colab-df-convert:hover {\n",
              "      background-color: #E2EBFA;\n",
              "      box-shadow: 0px 1px 2px rgba(60, 64, 67, 0.3), 0px 1px 3px 1px rgba(60, 64, 67, 0.15);\n",
              "      fill: #174EA6;\n",
              "    }\n",
              "\n",
              "    [theme=dark] .colab-df-convert {\n",
              "      background-color: #3B4455;\n",
              "      fill: #D2E3FC;\n",
              "    }\n",
              "\n",
              "    [theme=dark] .colab-df-convert:hover {\n",
              "      background-color: #434B5C;\n",
              "      box-shadow: 0px 1px 3px 1px rgba(0, 0, 0, 0.15);\n",
              "      filter: drop-shadow(0px 1px 2px rgba(0, 0, 0, 0.3));\n",
              "      fill: #FFFFFF;\n",
              "    }\n",
              "  </style>\n",
              "\n",
              "      <script>\n",
              "        const buttonEl =\n",
              "          document.querySelector('#df-f6b54a9c-4e5c-4c27-adb5-7303a2ae0ff3 button.colab-df-convert');\n",
              "        buttonEl.style.display =\n",
              "          google.colab.kernel.accessAllowed ? 'block' : 'none';\n",
              "\n",
              "        async function convertToInteractive(key) {\n",
              "          const element = document.querySelector('#df-f6b54a9c-4e5c-4c27-adb5-7303a2ae0ff3');\n",
              "          const dataTable =\n",
              "            await google.colab.kernel.invokeFunction('convertToInteractive',\n",
              "                                                     [key], {});\n",
              "          if (!dataTable) return;\n",
              "\n",
              "          const docLinkHtml = 'Like what you see? Visit the ' +\n",
              "            '<a target=\"_blank\" href=https://colab.research.google.com/notebooks/data_table.ipynb>data table notebook</a>'\n",
              "            + ' to learn more about interactive tables.';\n",
              "          element.innerHTML = '';\n",
              "          dataTable['output_type'] = 'display_data';\n",
              "          await google.colab.output.renderOutput(dataTable, element);\n",
              "          const docLink = document.createElement('div');\n",
              "          docLink.innerHTML = docLinkHtml;\n",
              "          element.appendChild(docLink);\n",
              "        }\n",
              "      </script>\n",
              "    </div>\n",
              "  </div>\n",
              "  "
            ]
          },
          "metadata": {},
          "execution_count": 14
        }
      ]
    },
    {
      "cell_type": "code",
      "source": [
        "import tensorflow as tf\n",
        "from sklearn.model_selection import train_test_split\n",
        "from tensorflow.keras.preprocessing.text import Tokenizer\n",
        "from tensorflow.keras.preprocessing.sequence import pad_sequences"
      ],
      "metadata": {
        "id": "nTc4lWzx4AE7"
      },
      "execution_count": 53,
      "outputs": []
    },
    {
      "cell_type": "code",
      "source": [
        "data.dropna(subset=['selected_text'], inplace=True)\n",
        "texts=data['selected_text'].values\n",
        "labels=data['sentiment'].values"
      ],
      "metadata": {
        "id": "Bi-J1Ubw4pm5"
      },
      "execution_count": 54,
      "outputs": []
    },
    {
      "cell_type": "code",
      "source": [
        "train_texts, test_texts, train_labels, test_labels = train_test_split(texts, labels, test_size=0.2, random_state=42)"
      ],
      "metadata": {
        "id": "Kl9H7cOj7NeR"
      },
      "execution_count": 55,
      "outputs": []
    },
    {
      "cell_type": "code",
      "source": [
        "label_mapping = {\"negative\": 0, \"neutral\": 1, \"positive\": 2}\n",
        "train_labels = [label_mapping[label] for label in train_labels]\n",
        "test_labels = [label_mapping[label] for label in test_labels]\n",
        "num_classes = len(label_mapping)"
      ],
      "metadata": {
        "id": "GxdT_hKR8FlO"
      },
      "execution_count": 56,
      "outputs": []
    },
    {
      "cell_type": "code",
      "source": [
        "from keras.layers import Embedding, LSTM, Dense, Dropout"
      ],
      "metadata": {
        "id": "rU0nDsVr-8sN"
      },
      "execution_count": 49,
      "outputs": []
    },
    {
      "cell_type": "code",
      "source": [
        "import tensorflow as tf\n",
        "from tensorflow.keras.preprocessing.sequence import pad_sequences\n",
        "\n",
        "# Define the model\n",
        "model = tf.keras.Sequential([\n",
        "    tf.keras.layers.Embedding(len(tokenizer.word_index) + 1, 100, input_length=max_length),\n",
        "    tf.keras.layers.LSTM(64),\n",
        "    tf.keras.layers.Dropout(0.2),\n",
        "    tf.keras.layers.Dense(3, activation='softmax')\n",
        "])\n",
        "\n",
        "# Compile the model\n",
        "model.compile(loss='categorical_crossentropy', optimizer='adam', metrics=['accuracy'])\n",
        "\n",
        "# Convert labels to one-hot encoded vectors\n",
        "train_labels = tf.keras.utils.to_categorical(train_labels, num_classes=3)\n",
        "test_labels = tf.keras.utils.to_categorical(test_labels, num_classes=3)\n",
        "\n",
        "# Train the model\n",
        "model.fit(train_data, train_labels, epochs=10, batch_size=16, validation_data=(test_data, test_labels))\n"
      ],
      "metadata": {
        "colab": {
          "base_uri": "https://localhost:8080/"
        },
        "id": "r1bKRbaN7i9y",
        "outputId": "8df26c0b-288b-4b5e-9c48-0ca906547278"
      },
      "execution_count": 57,
      "outputs": [
        {
          "output_type": "stream",
          "name": "stdout",
          "text": [
            "Epoch 1/10\n",
            "1374/1374 [==============================] - 98s 70ms/step - loss: 0.5333 - accuracy: 0.7889 - val_loss: 0.4581 - val_accuracy: 0.8282\n",
            "Epoch 2/10\n",
            "1374/1374 [==============================] - 93s 68ms/step - loss: 0.3111 - accuracy: 0.8896 - val_loss: 0.4613 - val_accuracy: 0.8322\n",
            "Epoch 3/10\n",
            "1374/1374 [==============================] - 94s 69ms/step - loss: 0.2164 - accuracy: 0.9280 - val_loss: 0.5105 - val_accuracy: 0.8222\n",
            "Epoch 4/10\n",
            "1374/1374 [==============================] - 97s 71ms/step - loss: 0.1635 - accuracy: 0.9456 - val_loss: 0.5481 - val_accuracy: 0.8241\n",
            "Epoch 5/10\n",
            "1374/1374 [==============================] - 96s 70ms/step - loss: 0.1243 - accuracy: 0.9577 - val_loss: 0.6284 - val_accuracy: 0.8186\n",
            "Epoch 6/10\n",
            "1374/1374 [==============================] - 93s 68ms/step - loss: 0.0983 - accuracy: 0.9660 - val_loss: 0.6674 - val_accuracy: 0.8184\n",
            "Epoch 7/10\n",
            "1374/1374 [==============================] - 94s 68ms/step - loss: 0.0798 - accuracy: 0.9721 - val_loss: 0.7528 - val_accuracy: 0.8201\n",
            "Epoch 8/10\n",
            "1374/1374 [==============================] - 94s 69ms/step - loss: 0.0667 - accuracy: 0.9771 - val_loss: 0.8131 - val_accuracy: 0.8159\n",
            "Epoch 9/10\n",
            "1374/1374 [==============================] - 98s 71ms/step - loss: 0.0532 - accuracy: 0.9822 - val_loss: 0.9274 - val_accuracy: 0.8191\n",
            "Epoch 10/10\n",
            "1374/1374 [==============================] - 95s 69ms/step - loss: 0.0479 - accuracy: 0.9840 - val_loss: 0.9727 - val_accuracy: 0.8139\n"
          ]
        },
        {
          "output_type": "execute_result",
          "data": {
            "text/plain": [
              "<keras.callbacks.History at 0x7f2e5bd11c60>"
            ]
          },
          "metadata": {},
          "execution_count": 57
        }
      ]
    },
    {
      "cell_type": "code",
      "source": [
        "def interpret_predictions(predictions):\n",
        "    sentiment_labels = ['Negative', 'Neutral', 'Positive']\n",
        "    predicted_label = sentiment_labels[predictions.argmax()]\n",
        "    return predicted_label\n"
      ],
      "metadata": {
        "id": "ME8t656jHD0U"
      },
      "execution_count": 67,
      "outputs": []
    },
    {
      "cell_type": "code",
      "source": [
        "import string\n",
        "\n",
        "# Preprocess the new data\n",
        "new_data = \"Food was Excellent, brilliant\"\n",
        "\n",
        "# Lowercase the text\n",
        "new_data = new_data.lower()\n",
        "\n",
        "# Remove punctuation\n",
        "new_data = new_data.translate(str.maketrans(\"\", \"\", string.punctuation))\n",
        "\n",
        "# Tokenize the text\n",
        "new_data_tokens = new_data.split()\n",
        "\n",
        "# Convert the tokens to numerical representation\n",
        "new_data_encoded = []\n",
        "for token in new_data_tokens:\n",
        "    if token in tokenizer.word_index:\n",
        "        new_data_encoded.append(tokenizer.word_index[token])\n",
        "\n",
        "# Pad or truncate the input\n",
        "new_data_padded = pad_sequences([new_data_encoded], maxlen=max_length, padding='post')  # Adjust maxlen as per your model's input requirements\n",
        "\n",
        "# Make predictions using the model\n",
        "predictions = model.predict(new_data_padded)\n",
        "decoded_predictions = interpret_predictions(predictions)\n",
        "\n",
        "\n",
        "# Print the predictions\n",
        "print(decoded_predictions)\n"
      ],
      "metadata": {
        "colab": {
          "base_uri": "https://localhost:8080/"
        },
        "id": "y68Ae9MPGoa2",
        "outputId": "339cc0e9-0838-4396-e83d-378b4e66d71e"
      },
      "execution_count": 72,
      "outputs": [
        {
          "output_type": "stream",
          "name": "stdout",
          "text": [
            "1/1 [==============================] - 0s 25ms/step\n",
            "Negative\n"
          ]
        }
      ]
    },
    {
      "cell_type": "code",
      "source": [],
      "metadata": {
        "id": "FxBKrlSzIMla"
      },
      "execution_count": null,
      "outputs": []
    }
  ]
}