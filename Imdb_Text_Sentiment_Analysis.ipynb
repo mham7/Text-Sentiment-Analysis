{
  "cells": [
    {
      "cell_type": "code",
      "execution_count": null,
      "metadata": {
        "id": "ef0fa25b"
      },
      "outputs": [],
      "source": [],
      "id": "ef0fa25b"
    },
    {
      "cell_type": "code",
      "execution_count": null,
      "metadata": {
        "id": "0f7ba641"
      },
      "outputs": [],
      "source": [
        "import numpy as np\n",
        "\n",
        "import tensorflow_datasets as tfds\n",
        "import tensorflow as tf\n",
        "\n",
        "tfds.disable_progress_bar()"
      ],
      "id": "0f7ba641"
    },
    {
      "cell_type": "code",
      "execution_count": null,
      "metadata": {
        "id": "dbe579b0"
      },
      "outputs": [],
      "source": [
        "import numpy as np\n",
        "import tensorflow_datasets as tfds\n",
        "import tensorflow as tf\n",
        "tfds.disable_progress_bar()"
      ],
      "id": "dbe579b0"
    },
    {
      "cell_type": "code",
      "execution_count": null,
      "metadata": {
        "colab": {
          "base_uri": "https://localhost:8080/"
        },
        "id": "d45380e6",
        "outputId": "aea79c56-706c-410f-c3ce-e375a6da0b40"
      },
      "outputs": [
        {
          "output_type": "stream",
          "name": "stdout",
          "text": [
            "Downloading and preparing dataset 80.23 MiB (download: 80.23 MiB, generated: Unknown size, total: 80.23 MiB) to /root/tensorflow_datasets/imdb_reviews/plain_text/1.0.0...\n",
            "Dataset imdb_reviews downloaded and prepared to /root/tensorflow_datasets/imdb_reviews/plain_text/1.0.0. Subsequent calls will reuse this data.\n"
          ]
        },
        {
          "output_type": "execute_result",
          "data": {
            "text/plain": [
              "(TensorSpec(shape=(), dtype=tf.string, name=None),\n",
              " TensorSpec(shape=(), dtype=tf.int64, name=None))"
            ]
          },
          "metadata": {},
          "execution_count": 5
        }
      ],
      "source": [
        "dataset, info = tfds.load('imdb_reviews', with_info=True, as_supervised=True)\n",
        "train_dataset, test_dataset = dataset['train'], dataset['test']\n",
        "train_dataset.element_spec"
      ],
      "id": "d45380e6"
    },
    {
      "cell_type": "code",
      "execution_count": null,
      "metadata": {
        "id": "22a357a9"
      },
      "outputs": [],
      "source": [
        "#pip install kaggle"
      ],
      "id": "22a357a9"
    },
    {
      "cell_type": "code",
      "execution_count": null,
      "metadata": {
        "id": "988c6a15"
      },
      "outputs": [],
      "source": [
        "#kaggle kernels output \"tanulsingh077/twitter-sentiment-extaction-analysis-eda-and-model\" -p F:/Sentiment\n"
      ],
      "id": "988c6a15"
    },
    {
      "cell_type": "code",
      "execution_count": null,
      "metadata": {
        "id": "047cf6b5"
      },
      "outputs": [],
      "source": [
        "#for example,label in train_dataset.take(1):\n",
        "   # print(label.numpy())\n",
        "    #print(label.numpy())\n",
        "    "
      ],
      "id": "047cf6b5"
    },
    {
      "cell_type": "code",
      "execution_count": null,
      "metadata": {
        "id": "bbe8e943"
      },
      "outputs": [],
      "source": [
        "BUFFER_SIZE = 10000\n",
        "BATCH_SIZE = 64"
      ],
      "id": "bbe8e943"
    },
    {
      "cell_type": "code",
      "execution_count": null,
      "metadata": {
        "id": "66f7b147"
      },
      "outputs": [],
      "source": [
        "train_dataset = train_dataset.shuffle(BUFFER_SIZE).batch(BATCH_SIZE).prefetch(tf.data.AUTOTUNE)\n",
        "test_dataset = test_dataset.batch(BATCH_SIZE).prefetch(tf.data.AUTOTUNE)"
      ],
      "id": "66f7b147"
    },
    {
      "cell_type": "code",
      "execution_count": null,
      "metadata": {
        "colab": {
          "base_uri": "https://localhost:8080/"
        },
        "id": "d432e39b",
        "outputId": "106c9d0a-8f96-462e-92eb-c6539e06a752"
      },
      "outputs": [
        {
          "output_type": "stream",
          "name": "stdout",
          "text": [
            "texts:  [b\"Every once in a while I will rent an action/adventure film just as a way to relax and occupy my mind with nothing important. This is why I own a copy of Charlie's Angels (2000) - not a quality film, but it makes me laugh and allows me to unwind for a while. One of these days I will probably buy copies of The Princess Bride and a few Monty Python movies for much the same reason.<br /><br />In any case, I rented this film because I wanted to be entertained without being challenged. For the most part, I got what I wanted. The plot was something along the lines of a poorly written Xena episode, and the Kathy Long's acting was very community theater (not bad for a professional kick boxer and amateur actress). There were a few high points on the part of the cyborgs. Somehow they managed to get some pretty good actors to play the bad guys - unfortunately, most of them die pretty darned quick.<br /><br />Like most martial arts films, the further you get into the movie, the more emphasis there is on action, and the plot (which wasn't strong to begin with) deteriorates almost as quickly as the acting. However, the more Kathy Long fights, the more time the director devotes to her backside. By the end of the movie I was seriously considering watching it a second time just to count the number of times Kathy Long's tight red shorts were center screen.<br /><br />Unfortunately, there just wasn't enough meat to this film to make satisfying curiosity worth seeing the film a second time. If you are a hard core Xena fan in need of something to wile away a few hours - by all means, go to the grocery store and spend the .50 cents on the rental. There are some strong similarities between the show and this movie.<br /><br />Just don't expect anything more than to be mildly amused for a few hours.<br /><br />Unless, of course, you happen to like Kathy Long's derri\\xc3\\xa8re. THEN you might want to purchase a copy.\"\n",
            " b\"Well.......in contrast to other comments previously written I have to say that the only good thing about this film is the fact that one guy in it looked a bit like Jason Donavon which reminded me of my youth. I have no idea how it won any awards, and although I'm sure a great deal of effort went into making it it was all fruitless as the final outcome is one which screams of early 90's foreign soap operas. The plot was non-existent, the cinematography was hopeless and the acting was on par with an a-level performance. It was unfortunately long and the sub-plots were incredibly unrealistic....for example....if your best friend slept with your ex-boyfriend of 6 years after only 2 weeks of being broken up you would not all remain the best of friends. It was all fantasy. That's all! Oh yeah, and the weird 90's house/soft core indie was mind numbing!\"\n",
            " b\"This film is great. As often heard, it is indeed very realistic and sometimes brutal, but unlike some other people I am clearly not of the opinion that it is depressing, negativistic or dismantling Austria as a proto-fascist society. Quite the contrary: While there are indeed some very heavy scenes in HUNDSTAGE and some characters are to be called very bad persons, at the same time you watch love, beauty and humor in Ulrich Seidls film. And that's exactly what distinguishes HUNDSTAGE for me from other films that try to show the lives of the 'ordinary people' in an intense, realistic way; their hustle, their wishes, their dark sides: Seidl clearly never tries to prove, that the lives of the working-class people are trash! In my opinion, viewers who come to this conclusion seem to be very afraid of admitting, that nearly nobody's live is as 'clean' and 'normal' as we would like other people to believe. And that every live has its dark and often depressing sides. The most beautiful scene: The old Viennese man, watching his old girl dancing 'the oriental way', as he is calling it. I think everybody who finds this scene ugly lacks a sense of beauty and should ask themselves what it is, that's proto-fascist: The characters in HUNDSTAGE or viewers, who are turned off by the body of a 70+ year old woman, dancing with all her charms for her lover.\"]\n",
            "\n",
            "labels:  [0 0 1]\n"
          ]
        }
      ],
      "source": [
        "for example, label in train_dataset.take(1):\n",
        "    print('texts: ', example.numpy()[:3])\n",
        "    print()\n",
        "    print('labels: ', label.numpy()[:3])"
      ],
      "id": "d432e39b"
    },
    {
      "cell_type": "code",
      "execution_count": null,
      "metadata": {
        "id": "44caef63"
      },
      "outputs": [],
      "source": [
        "VOCAB_SIZE = 1000\n",
        "encoder = tf.keras.layers.TextVectorization(\n",
        "    max_tokens=VOCAB_SIZE)\n",
        "encoder.adapt(train_dataset.map(lambda text, label: text))"
      ],
      "id": "44caef63"
    },
    {
      "cell_type": "code",
      "execution_count": null,
      "metadata": {
        "colab": {
          "base_uri": "https://localhost:8080/"
        },
        "id": "cc571eb2",
        "outputId": "31074d5b-cd6b-475d-e6e0-0c96652cb444"
      },
      "outputs": [
        {
          "output_type": "execute_result",
          "data": {
            "text/plain": [
              "array(['', '[UNK]', 'the', 'and', 'a', 'of', 'to', 'is', 'in', 'it', 'i',\n",
              "       'this', 'that', 'br', 'was', 'as', 'for', 'with', 'movie', 'but'],\n",
              "      dtype='<U14')"
            ]
          },
          "metadata": {},
          "execution_count": 13
        }
      ],
      "source": [
        "vocab = np.array(encoder.get_vocabulary())\n",
        "vocab[:20]"
      ],
      "id": "cc571eb2"
    },
    {
      "cell_type": "code",
      "execution_count": null,
      "metadata": {
        "colab": {
          "base_uri": "https://localhost:8080/"
        },
        "id": "c6f01ab9",
        "outputId": "c427dc22-c071-4b1d-dcf4-b5e8378c93bb"
      },
      "outputs": [
        {
          "output_type": "execute_result",
          "data": {
            "text/plain": [
              "array([[168, 272,   8, ...,   0,   0,   0],\n",
              "       [  1,   1,   6, ...,   0,   0,   0],\n",
              "       [ 11,  20,   7, ...,   0,   0,   0]])"
            ]
          },
          "metadata": {},
          "execution_count": 14
        }
      ],
      "source": [
        "encoded_example = encoder(example)[:3].numpy()\n",
        "encoded_example"
      ],
      "id": "c6f01ab9"
    },
    {
      "cell_type": "code",
      "execution_count": null,
      "metadata": {
        "colab": {
          "base_uri": "https://localhost:8080/"
        },
        "id": "92990f0b",
        "outputId": "3d13c9ec-65eb-4e9d-8fd5-d710f9ed778f"
      },
      "outputs": [
        {
          "output_type": "stream",
          "name": "stdout",
          "text": [
            "Original:  b\"Every once in a while I will rent an action/adventure film just as a way to relax and occupy my mind with nothing important. This is why I own a copy of Charlie's Angels (2000) - not a quality film, but it makes me laugh and allows me to unwind for a while. One of these days I will probably buy copies of The Princess Bride and a few Monty Python movies for much the same reason.<br /><br />In any case, I rented this film because I wanted to be entertained without being challenged. For the most part, I got what I wanted. The plot was something along the lines of a poorly written Xena episode, and the Kathy Long's acting was very community theater (not bad for a professional kick boxer and amateur actress). There were a few high points on the part of the cyborgs. Somehow they managed to get some pretty good actors to play the bad guys - unfortunately, most of them die pretty darned quick.<br /><br />Like most martial arts films, the further you get into the movie, the more emphasis there is on action, and the plot (which wasn't strong to begin with) deteriorates almost as quickly as the acting. However, the more Kathy Long fights, the more time the director devotes to her backside. By the end of the movie I was seriously considering watching it a second time just to count the number of times Kathy Long's tight red shorts were center screen.<br /><br />Unfortunately, there just wasn't enough meat to this film to make satisfying curiosity worth seeing the film a second time. If you are a hard core Xena fan in need of something to wile away a few hours - by all means, go to the grocery store and spend the .50 cents on the rental. There are some strong similarities between the show and this movie.<br /><br />Just don't expect anything more than to be mildly amused for a few hours.<br /><br />Unless, of course, you happen to like Kathy Long's derri\\xc3\\xa8re. THEN you might want to purchase a copy.\"\n",
            "Round-trip:  every once in a while i will rent an [UNK] film just as a way to [UNK] and [UNK] my mind with nothing important this is why i own a [UNK] of [UNK] [UNK] [UNK] not a quality film but it makes me laugh and [UNK] me to [UNK] for a while one of these days i will probably buy [UNK] of the [UNK] [UNK] and a few [UNK] [UNK] movies for much the same [UNK] br in any case i [UNK] this film because i wanted to be [UNK] without being [UNK] for the most part i got what i wanted the plot was something along the lines of a poorly written [UNK] episode and the [UNK] [UNK] acting was very [UNK] theater not bad for a [UNK] [UNK] [UNK] and [UNK] actress there were a few high points on the part of the [UNK] somehow they [UNK] to get some pretty good actors to play the bad guys unfortunately most of them die pretty [UNK] [UNK] br like most [UNK] [UNK] films the [UNK] you get into the movie the more [UNK] there is on action and the plot which wasnt strong to begin with [UNK] almost as quickly as the acting however the more [UNK] long [UNK] the more time the director [UNK] to her [UNK] by the end of the movie i was seriously [UNK] watching it a second time just to [UNK] the number of times [UNK] [UNK] [UNK] red [UNK] were [UNK] [UNK] br unfortunately there just wasnt enough [UNK] to this film to make [UNK] [UNK] worth seeing the film a second time if you are a hard [UNK] [UNK] fan in need of something to [UNK] away a few hours by all means go to the [UNK] [UNK] and [UNK] the [UNK] [UNK] on the [UNK] there are some strong [UNK] between the show and this moviebr br just dont expect anything more than to be [UNK] [UNK] for a few [UNK] br unless of course you happen to like [UNK] [UNK] [UNK] then you might want to [UNK] a [UNK]                                                                                                                                                                                                                                                                                                                                                                                                                           \n",
            "\n",
            "Original:  b\"Well.......in contrast to other comments previously written I have to say that the only good thing about this film is the fact that one guy in it looked a bit like Jason Donavon which reminded me of my youth. I have no idea how it won any awards, and although I'm sure a great deal of effort went into making it it was all fruitless as the final outcome is one which screams of early 90's foreign soap operas. The plot was non-existent, the cinematography was hopeless and the acting was on par with an a-level performance. It was unfortunately long and the sub-plots were incredibly unrealistic....for example....if your best friend slept with your ex-boyfriend of 6 years after only 2 weeks of being broken up you would not all remain the best of friends. It was all fantasy. That's all! Oh yeah, and the weird 90's house/soft core indie was mind numbing!\"\n",
            "Round-trip:  [UNK] [UNK] to other comments [UNK] written i have to say that the only good thing about this film is the fact that one guy in it looked a bit like [UNK] [UNK] which [UNK] me of my [UNK] i have no idea how it [UNK] any [UNK] and although im sure a great deal of effort went into making it it was all [UNK] as the final [UNK] is one which [UNK] of early [UNK] [UNK] [UNK] [UNK] the plot was [UNK] the cinematography was [UNK] and the acting was on [UNK] with an [UNK] performance it was unfortunately long and the [UNK] were incredibly [UNK] [UNK] your best friend [UNK] with your [UNK] of [UNK] years after only 2 [UNK] of being [UNK] up you would not all [UNK] the best of friends it was all fantasy thats all oh [UNK] and the weird [UNK] [UNK] [UNK] [UNK] was mind [UNK]                                                                                                                                                                                                                                                                                                                                                                                                                                                                                                                                                                                                                               \n",
            "\n",
            "Original:  b\"This film is great. As often heard, it is indeed very realistic and sometimes brutal, but unlike some other people I am clearly not of the opinion that it is depressing, negativistic or dismantling Austria as a proto-fascist society. Quite the contrary: While there are indeed some very heavy scenes in HUNDSTAGE and some characters are to be called very bad persons, at the same time you watch love, beauty and humor in Ulrich Seidls film. And that's exactly what distinguishes HUNDSTAGE for me from other films that try to show the lives of the 'ordinary people' in an intense, realistic way; their hustle, their wishes, their dark sides: Seidl clearly never tries to prove, that the lives of the working-class people are trash! In my opinion, viewers who come to this conclusion seem to be very afraid of admitting, that nearly nobody's live is as 'clean' and 'normal' as we would like other people to believe. And that every live has its dark and often depressing sides. The most beautiful scene: The old Viennese man, watching his old girl dancing 'the oriental way', as he is calling it. I think everybody who finds this scene ugly lacks a sense of beauty and should ask themselves what it is, that's proto-fascist: The characters in HUNDSTAGE or viewers, who are turned off by the body of a 70+ year old woman, dancing with all her charms for her lover.\"\n",
            "Round-trip:  this film is great as often heard it is indeed very realistic and sometimes [UNK] but unlike some other people i am clearly not of the opinion that it is [UNK] [UNK] or [UNK] [UNK] as a [UNK] society quite the [UNK] while there are indeed some very [UNK] scenes in [UNK] and some characters are to be called very bad [UNK] at the same time you watch love beauty and humor in [UNK] [UNK] film and thats exactly what [UNK] [UNK] for me from other films that try to show the lives of the [UNK] people in an [UNK] realistic way their [UNK] their [UNK] their dark [UNK] [UNK] clearly never tries to [UNK] that the lives of the [UNK] people are [UNK] in my opinion viewers who come to this [UNK] seem to be very [UNK] of [UNK] that nearly [UNK] live is as [UNK] and [UNK] as we would like other people to believe and that every live has its dark and often [UNK] [UNK] the most beautiful scene the old [UNK] man watching his old girl [UNK] the [UNK] way as he is [UNK] it i think [UNK] who finds this scene [UNK] [UNK] a sense of beauty and should ask themselves what it is thats [UNK] the characters in [UNK] or viewers who are turned off by the body of a [UNK] year old woman [UNK] with all her [UNK] for her [UNK]                                                                                                                                                                                                                                                                                                                                                                                                                                                                                                                                          \n",
            "\n"
          ]
        }
      ],
      "source": [
        "for n in range(3):\n",
        "    print(\"Original: \", example[n].numpy())\n",
        "    print(\"Round-trip: \", \" \".join(vocab[encoded_example[n]]))\n",
        "    print()"
      ],
      "id": "92990f0b"
    },
    {
      "cell_type": "code",
      "execution_count": null,
      "metadata": {
        "id": "8fe9c22e"
      },
      "outputs": [],
      "source": [
        "model = tf.keras.Sequential([\n",
        "    encoder,\n",
        "    tf.keras.layers.Embedding(len(encoder.get_vocabulary()), 64, mask_zero=True),\n",
        "    tf.keras.layers.Bidirectional(tf.keras.layers.LSTM(64,  return_sequences=True)),\n",
        "    tf.keras.layers.Bidirectional(tf.keras.layers.LSTM(32)),\n",
        "    tf.keras.layers.Dense(64, activation='relu'),\n",
        "    tf.keras.layers.Dropout(0.5),\n",
        "    tf.keras.layers.Dense(1)\n",
        "])"
      ],
      "id": "8fe9c22e"
    },
    {
      "cell_type": "code",
      "execution_count": null,
      "metadata": {
        "colab": {
          "base_uri": "https://localhost:8080/"
        },
        "id": "45de145b",
        "outputId": "2216693c-5c86-4a74-f766-1221b4074c9f"
      },
      "outputs": [
        {
          "output_type": "stream",
          "name": "stdout",
          "text": [
            "[False, True, True, True, True, True, True]\n"
          ]
        }
      ],
      "source": [
        "print([layer.supports_masking for layer in model.layers])"
      ],
      "id": "45de145b"
    },
    {
      "cell_type": "code",
      "execution_count": null,
      "metadata": {
        "colab": {
          "base_uri": "https://localhost:8080/"
        },
        "id": "fde69ccf",
        "outputId": "3a4ed291-a9d6-4b3b-8226-56d32287d30e"
      },
      "outputs": [
        {
          "output_type": "stream",
          "name": "stdout",
          "text": [
            "1/1 [==============================] - 9s 9s/step\n",
            "[0.00369679]\n"
          ]
        }
      ],
      "source": [
        "# predict on a sample text without padding.\n",
        "\n",
        "sample_text = ('The movie was cool. The animation and the graphics '\n",
        "               'were out of this world. I would recommend this movie.')\n",
        "predictions = model.predict(np.array([sample_text]))\n",
        "print(predictions[0])"
      ],
      "id": "fde69ccf"
    },
    {
      "cell_type": "code",
      "execution_count": null,
      "metadata": {
        "colab": {
          "base_uri": "https://localhost:8080/"
        },
        "id": "f6ee773d",
        "outputId": "fc631964-d736-44ca-d89a-e381645b7553"
      },
      "outputs": [
        {
          "output_type": "stream",
          "name": "stdout",
          "text": [
            "1/1 [==============================] - 0s 111ms/step\n",
            "[0.00369679]\n"
          ]
        }
      ],
      "source": [
        "# predict on a sample text with padding\n",
        "\n",
        "padding = \"the \" * 2000\n",
        "predictions = model.predict(np.array([sample_text, padding]))\n",
        "print(predictions[0])"
      ],
      "id": "f6ee773d"
    },
    {
      "cell_type": "code",
      "execution_count": null,
      "metadata": {
        "id": "8ed61176"
      },
      "outputs": [],
      "source": [
        "model.compile(loss=tf.keras.losses.BinaryCrossentropy(from_logits=True),\n",
        "              optimizer=tf.keras.optimizers.Adam(1e-4),\n",
        "              metrics=['accuracy'])"
      ],
      "id": "8ed61176"
    },
    {
      "cell_type": "code",
      "execution_count": null,
      "metadata": {
        "colab": {
          "base_uri": "https://localhost:8080/"
        },
        "id": "f97cbaf1",
        "outputId": "589e3d79-d3a5-4649-868e-ccf571bb4ef8"
      },
      "outputs": [
        {
          "output_type": "stream",
          "name": "stdout",
          "text": [
            "Epoch 1/10\n",
            "391/391 [==============================] - 80s 157ms/step - loss: 0.6465 - accuracy: 0.5602 - val_loss: 0.4456 - val_accuracy: 0.7937\n",
            "Epoch 2/10\n",
            "391/391 [==============================] - 48s 122ms/step - loss: 0.3934 - accuracy: 0.8244 - val_loss: 0.3590 - val_accuracy: 0.8406\n",
            "Epoch 3/10\n",
            "391/391 [==============================] - 45s 114ms/step - loss: 0.3349 - accuracy: 0.8551 - val_loss: 0.3354 - val_accuracy: 0.8422\n",
            "Epoch 4/10\n",
            "391/391 [==============================] - 43s 110ms/step - loss: 0.3265 - accuracy: 0.8602 - val_loss: 0.3283 - val_accuracy: 0.8599\n",
            "Epoch 5/10\n",
            "391/391 [==============================] - 44s 112ms/step - loss: 0.3104 - accuracy: 0.8669 - val_loss: 0.3233 - val_accuracy: 0.8453\n",
            "Epoch 6/10\n",
            "391/391 [==============================] - 43s 109ms/step - loss: 0.3072 - accuracy: 0.8690 - val_loss: 0.3210 - val_accuracy: 0.8620\n",
            "Epoch 7/10\n",
            "391/391 [==============================] - 44s 111ms/step - loss: 0.3028 - accuracy: 0.8711 - val_loss: 0.3286 - val_accuracy: 0.8495\n",
            "Epoch 8/10\n",
            "391/391 [==============================] - 43s 110ms/step - loss: 0.2992 - accuracy: 0.8710 - val_loss: 0.3226 - val_accuracy: 0.8625\n",
            "Epoch 9/10\n",
            "391/391 [==============================] - 44s 113ms/step - loss: 0.2963 - accuracy: 0.8732 - val_loss: 0.3228 - val_accuracy: 0.8635\n",
            "Epoch 10/10\n",
            "391/391 [==============================] - 44s 113ms/step - loss: 0.2939 - accuracy: 0.8740 - val_loss: 0.3192 - val_accuracy: 0.8562\n"
          ]
        }
      ],
      "source": [
        "history = model.fit(train_dataset, epochs=10,\n",
        "                    validation_data=test_dataset,\n",
        "                    validation_steps=30)\n"
      ],
      "id": "f97cbaf1"
    },
    {
      "cell_type": "code",
      "execution_count": null,
      "metadata": {
        "id": "2vRxVf9hIWLu",
        "colab": {
          "base_uri": "https://localhost:8080/"
        },
        "outputId": "3adf3901-fb2c-433c-caa5-c775832d1386"
      },
      "outputs": [
        {
          "output_type": "stream",
          "name": "stdout",
          "text": [
            "Mounted at /content/drive\n"
          ]
        }
      ],
      "source": [
        "from google.colab import drive\n",
        "drive.mount('/content/drive')"
      ],
      "id": "2vRxVf9hIWLu"
    },
    {
      "cell_type": "code",
      "execution_count": null,
      "metadata": {
        "id": "b32d2f8f",
        "colab": {
          "base_uri": "https://localhost:8080/"
        },
        "outputId": "f6b3a4ad-79a2-400e-a8c4-56840428fe4c"
      },
      "outputs": [
        {
          "output_type": "stream",
          "name": "stderr",
          "text": [
            "WARNING:absl:Found untraced functions such as lstm_cell_1_layer_call_fn, lstm_cell_1_layer_call_and_return_conditional_losses, lstm_cell_2_layer_call_fn, lstm_cell_2_layer_call_and_return_conditional_losses, lstm_cell_4_layer_call_fn while saving (showing 5 of 8). These functions will not be directly callable after loading.\n"
          ]
        }
      ],
      "source": [
        "model.save('/content/drive/My Drive/usman_model') "
      ],
      "id": "b32d2f8f"
    },
    {
      "cell_type": "code",
      "execution_count": null,
      "metadata": {
        "id": "D12ZMlr3OK4B"
      },
      "outputs": [],
      "source": [
        "new_model = tf.keras.models.load_model('usman_model')\n",
        "\n"
      ],
      "id": "D12ZMlr3OK4B"
    },
    {
      "cell_type": "code",
      "execution_count": null,
      "metadata": {
        "id": "tjxBqtbjqy1V",
        "colab": {
          "base_uri": "https://localhost:8080/"
        },
        "outputId": "5ba9ea70-1378-42cf-bb97-e5dce3e27ef4"
      },
      "outputs": [
        {
          "output_type": "stream",
          "name": "stdout",
          "text": [
            "391/391 [==============================] - 24s 48ms/step - loss: 0.3178 - accuracy: 0.8623\n",
            "Test Loss: 0.317804217338562\n",
            "Test Accuracy: 0.862280011177063\n",
            "Model: \"sequential\"\n",
            "_________________________________________________________________\n",
            " Layer (type)                Output Shape              Param #   \n",
            "=================================================================\n",
            " text_vectorization (TextVec  (None, None)             0         \n",
            " torization)                                                     \n",
            "                                                                 \n",
            " embedding (Embedding)       (None, None, 64)          64000     \n",
            "                                                                 \n",
            " bidirectional (Bidirectiona  (None, None, 128)        66048     \n",
            " l)                                                              \n",
            "                                                                 \n",
            " bidirectional_1 (Bidirectio  (None, 64)               41216     \n",
            " nal)                                                            \n",
            "                                                                 \n",
            " dense (Dense)               (None, 64)                4160      \n",
            "                                                                 \n",
            " dropout (Dropout)           (None, 64)                0         \n",
            "                                                                 \n",
            " dense_1 (Dense)             (None, 1)                 65        \n",
            "                                                                 \n",
            "=================================================================\n",
            "Total params: 175,489\n",
            "Trainable params: 175,489\n",
            "Non-trainable params: 0\n",
            "_________________________________________________________________\n"
          ]
        }
      ],
      "source": [
        "new_model = tf.keras.models.load_model('usman_model')\n",
        "test_loss, test_acc = new_model.evaluate(test_dataset)\n",
        "\n",
        "print('Test Loss:', test_loss)\n",
        "print('Test Accuracy:', test_acc)\n",
        "# Check its architecture\n",
        "]new_model.summary()"
      ],
      "id": "tjxBqtbjqy1V"
    },
    {
      "cell_type": "code",
      "execution_count": null,
      "metadata": {
        "id": "tMyk5OvHKRb4",
        "colab": {
          "base_uri": "https://localhost:8080/"
        },
        "outputId": "db819d12-d62d-44f6-8353-dbcde4f3c21e"
      },
      "outputs": [
        {
          "output_type": "stream",
          "name": "stdout",
          "text": [
            "1/1 [==============================] - 5s 5s/step\n",
            "[[-1.0993527]]\n",
            "1/1 [==============================] - 0s 44ms/step\n",
            "[[0.46861812]]\n",
            "Good Review\n"
          ]
        }
      ],
      "source": [
        "# predict on a sample text without padding.\n",
        "\n",
        "sample_text = ('The wedding hall was very bad and the organizers were not professional.')\n",
        "predictions = model.predict(np.array([sample_text]))\n",
        "print(predictions)\n",
        "\n",
        "sample_text = ('The wedding hall was good but the overall event was exciting.')\n",
        "predictions = model.predict(np.array([sample_text]))\n",
        "print(predictions)\n",
        "\n",
        "if(predictions>(-0.4)):\n",
        "  print(\"Good Review\")\n",
        "\n",
        "if(predictions<(-0.4)):\n",
        "  print(\"Bad Review\")\n"
      ],
      "id": "tMyk5OvHKRb4"
    },
    {
      "cell_type": "code",
      "execution_count": null,
      "metadata": {
        "id": "bzpeOA3fKeXa",
        "colab": {
          "base_uri": "https://localhost:8080/",
          "height": 358
        },
        "outputId": "df5d3715-2f98-4648-e46a-31600a85cbf4"
      },
      "outputs": [
        {
          "output_type": "display_data",
          "data": {
            "text/plain": [
              "<Figure size 1600x600 with 2 Axes>"
            ],
            "image/png": "[encoded data removed]"
          },
          "metadata": {}
        }
      ],
      "source": [
        "import matplotlib.pyplot as plt\n",
        "def plot_graphs(history, metric):\n",
        "  plt.plot(history.history[metric])\n",
        "  plt.plot(history.history['val_'+metric], '')\n",
        "  plt.xlabel(\"Epochs\")\n",
        "  plt.ylabel(metric)\n",
        "  plt.legend([metric, 'val_'+metric])\n",
        "  \n",
        "plt.figure(figsize=(16, 6))\n",
        "plt.subplot(1, 2, 1)\n",
        "plot_graphs(history, 'accuracy')\n",
        "plt.subplot(1, 2, 2)\n",
        "plot_graphs(history, 'loss')"
      ],
      "id": "bzpeOA3fKeXa"
    },
    {
      "cell_type": "code",
      "source": [],
      "metadata": {
        "id": "7kdDo34i_Daa"
      },
      "id": "7kdDo34i_Daa",
      "execution_count": null,
      "outputs": []
    }
  ],
  "metadata": {
    "accelerator": "GPU",
    "colab": {
      "provenance": []
    },
    "gpuClass": "standard",
    "kernelspec": {
      "display_name": "Python 3 (ipykernel)",
      "language": "python",
      "name": "python3"
    },
    "language_info": {
      "codemirror_mode": {
        "name": "ipython",
        "version": 3
      },
      "file_extension": ".py",
      "mimetype": "text/x-python",
      "name": "python",
      "nbconvert_exporter": "python",
      "pygments_lexer": "ipython3",
      "version": "3.9.12"
    }
  },
  "nbformat": 4,
  "nbformat_minor": 5
}